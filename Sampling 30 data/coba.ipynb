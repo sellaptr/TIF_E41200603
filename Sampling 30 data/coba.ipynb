{
 "cells": [
  {
   "cell_type": "code",
   "execution_count": 7,
   "metadata": {},
   "outputs": [],
   "source": [
    "import pandas as pd\n",
    "import numpy as np\n",
    "import seaborn as sns\n",
    "import statsmodels.api as sm\n",
    "from sklearn.linear_model import LinearRegression\n",
    "import warnings\n",
    "warnings.filterwarnings\n",
    "from statsmodels.stats.outliers_influence import variance_inflation_factor\n",
    "from statsmodels.stats.stattools import durbin_watson\n",
    "from scipy.stats import t"
   ]
  },
  {
   "cell_type": "code",
   "execution_count": 8,
   "metadata": {},
   "outputs": [
    {
     "name": "stdout",
     "output_type": "stream",
     "text": [
      "    total_x1  total_x2  total_x3  total_x4  total_y / Yi\n",
      "0         31        19        11         8             7\n",
      "1         35        23        14         8             9\n",
      "2         31        20        13         7             8\n",
      "3         28        14         4         4             2\n",
      "4         36        20         7         5             4\n",
      "5         29        20        11         6             5\n",
      "6         30        19         9         7             6\n",
      "7         35        21        13         8             8\n",
      "8         33        19        10         9             8\n",
      "9         39        24        15         9            10\n",
      "10        30        18         8         7             6\n",
      "11        20        16         7         8             5\n",
      "12        33        20        12         7             7\n",
      "13        30        19         9         7             6\n",
      "14        27        19         6         6             6\n",
      "15        23        13         8         6             3\n",
      "16        16        14        10         5             4\n",
      "17        33        18        11         7             6\n",
      "18        28        20        11         9             8\n",
      "19        28        17        10         7             6\n",
      "20        25        18        10        10             7\n",
      "21        32        20         9         9             8\n",
      "22        38        21        12         9             7\n",
      "23        24        22         9         7             7\n",
      "24        24        19         7         5             5\n",
      "25        26        18        10         8             7\n",
      "26        34        18        11        10             7\n",
      "27        30        20        11         8             7\n",
      "28        34        20        10         8             7\n",
      "29        33        20        11         6             7\n"
     ]
    }
   ],
   "source": [
    "df = pd.read_excel(\"coba.xlsx\")\n",
    "print(df)"
   ]
  },
  {
   "cell_type": "code",
   "execution_count": 9,
   "metadata": {},
   "outputs": [
    {
     "name": "stdout",
     "output_type": "stream",
     "text": [
      "    total_x1  total_x2  total_x3  total_x4  total_y / Yi  Ypredict  Residual\n",
      "0         31        19        11         8             7  6.931153  0.068847\n",
      "1         35        23        14         8             9  8.870629  0.129371\n",
      "2         31        20        13         7             8  7.214950  0.785050\n",
      "3         28        14         4         4             2  1.879062  0.120938\n",
      "4         36        20         7         5             4  4.907163 -0.907163\n",
      "5         29        20        11         6             5  6.406258 -1.406258\n",
      "6         30        19         9         7             6  6.089547 -0.089547\n",
      "7         35        21        13         8             8  7.933606  0.066394\n",
      "8         33        19        10         9             8  7.148583  0.851417\n",
      "9         39        24        15         9            10  9.786373  0.213627\n",
      "10        30        18         8         7             6  5.522492  0.477508\n",
      "11        20        16         7         8             5  5.394957 -0.394957\n",
      "12        33        20        12         7             7  6.952034  0.047966\n",
      "13        30        19         9         7             6  6.089547 -0.089547\n",
      "14        27        19         6         6             6  5.116682  0.883318\n",
      "15        23        13         8         6             3  3.422706 -0.422706\n",
      "16        16        14        10         5             4  3.936903  0.063097\n",
      "17        33        18        11         7             6  6.015011 -0.015011\n",
      "18        28        20        11         9             8  7.880210  0.119790\n",
      "19        28        17        10         7             6  5.612527  0.387473\n",
      "20        25        18        10        10             7  7.522275 -0.522275\n",
      "21        32        20         9         9             8  7.354378  0.645622\n",
      "22        38        21        12         9             7  8.118122 -1.118122\n",
      "23        24        22         9         7             7  7.396937 -0.396937\n",
      "24        24        19         7         5             5  4.932167  0.067833\n",
      "25        26        18        10         8             7  6.528669  0.471331\n",
      "26        34        18        11        10             7  7.423134 -0.423134\n",
      "27        30        20        11         8             7  7.334035 -0.334035\n",
      "28        34        20        10         8             7  7.005291 -0.005291\n",
      "29        33        20        11         6             7  6.274601  0.725399\n"
     ]
    }
   ],
   "source": [
    "Xvar = df[['total_x1','total_x2','total_x3','total_x4']]\n",
    "Xvar = sm.add_constant(Xvar)\n",
    "Yvar = df['total_y / Yi']\n",
    "olsmod = sm.OLS(Yvar,Xvar).fit()\n",
    "df['Ypredict'] = olsmod.predict(Xvar)\n",
    "df['Residual'] = olsmod.resid\n",
    "print(df)"
   ]
  },
  {
   "cell_type": "code",
   "execution_count": 10,
   "metadata": {},
   "outputs": [
    {
     "name": "stdout",
     "output_type": "stream",
     "text": [
      "P_value Kolmogorov-Smirnov : 0.176\n",
      "Data terdistribusi normal\n"
     ]
    }
   ],
   "source": [
    "# Normalitas Residual\n",
    "n_stats, p_val = sm.stats.diagnostic.kstest_normal(\n",
    "    df['Residual'],dist='norm', pvalmethod='table'\n",
    "    )\n",
    "print('P_value Kolmogorov-Smirnov :', round(p_val,3))\n",
    "\n",
    "if p_val > 0.05:\n",
    "    print (\"Data terdistribusi normal\")\n",
    "elif p_val < 0.05:\n",
    "    print (\"Data terdistribusi tidak normal\")"
   ]
  },
  {
   "cell_type": "code",
   "execution_count": 11,
   "metadata": {},
   "outputs": [
    {
     "name": "stdout",
     "output_type": "stream",
     "text": [
      "Uji T untuk variabel independen:\n",
      "total_x1: -1.123011689435214\n",
      "total_x2: 5.397862551880279\n",
      "total_x3: 3.011842212464809\n",
      "total_x4: 5.464965372406945\n",
      "Constant: -5.5392349224596\n"
     ]
    }
   ],
   "source": [
    "# Uji T\n",
    "print(\"Uji T untuk variabel independen:\")\n",
    "print(\"total_x1:\", olsmod.tvalues['total_x1'])\n",
    "print(\"total_x2:\", olsmod.tvalues['total_x2'])\n",
    "print(\"total_x3:\", olsmod.tvalues['total_x3'])\n",
    "print(\"total_x4:\", olsmod.tvalues['total_x4'])\n",
    "print(\"Constant:\", olsmod.tvalues['const'])\n",
    "\n",
    "total_x1 = olsmod.tvalues['total_x1']\n",
    "total_x2 = olsmod.tvalues['total_x2']\n",
    "total_x3 = olsmod.tvalues['total_x3']\n",
    "total_x4 = olsmod.tvalues['total_x4']\n",
    "const = olsmod.tvalues['const']\n"
   ]
  },
  {
   "cell_type": "code",
   "execution_count": 12,
   "metadata": {},
   "outputs": [
    {
     "data": {
      "text/plain": [
       "[Text(0.5, 1.0, 'Predict vs Residual')]"
      ]
     },
     "execution_count": 12,
     "metadata": {},
     "output_type": "execute_result"
    },
    {
     "data": {
      "image/png": "[encoded data removed]",
      "text/plain": [
       "<Figure size 640x480 with 1 Axes>"
      ]
     },
     "metadata": {},
     "output_type": "display_data"
    }
   ],
   "source": [
    "# Uji Heteroskedastisitas\n",
    "sns.residplot(x=df[\"Ypredict\"], y=df[\"Residual\"]).set(title='Predict vs Residual')"
   ]
  },
  {
   "cell_type": "code",
   "execution_count": 13,
   "metadata": {},
   "outputs": [
    {
     "name": "stdout",
     "output_type": "stream",
     "text": [
      "Uji Auto Korelasi : 1.8702692972403494\n"
     ]
    }
   ],
   "source": [
    "# Uji auto korelasi\n",
    "durbinWatson = durbin_watson(df[\"Residual\"])\n",
    "print(\"Uji Auto Korelasi :\", durbinWatson)"
   ]
  },
  {
   "cell_type": "code",
   "execution_count": 14,
   "metadata": {},
   "outputs": [
    {
     "name": "stdout",
     "output_type": "stream",
     "text": [
      "Intercept :  -5.088621219475435\n"
     ]
    },
    {
     "data": {
      "text/plain": [
       "[('total_x1', -0.03291429653975283),\n",
       " ('total_x2', 0.36996794387552745),\n",
       " ('total_x3', 0.1970872948898327),\n",
       " ('total_x4', 0.4803457761368489)]"
      ]
     },
     "execution_count": 14,
     "metadata": {},
     "output_type": "execute_result"
    }
   ],
   "source": [
    "# Nilai Linear Regression\n",
    "bebas = ['total_x1','total_x2','total_x3','total_x4']\n",
    "X = df[bebas]\n",
    "y = df['total_y / Yi']\n",
    "\n",
    "model = LinearRegression().fit(X,y)\n",
    "\n",
    "koefisien = model.coef_\n",
    "intercept = model.intercept_\n",
    "\n",
    "print(\"Intercept : \", intercept)\n",
    "list(zip(bebas, koefisien))"
   ]
  },
  {
   "cell_type": "code",
   "execution_count": 15,
   "metadata": {},
   "outputs": [
    {
     "name": "stdout",
     "output_type": "stream",
     "text": [
      "Uji R:  0.8957579476564601\n"
     ]
    }
   ],
   "source": [
    "# Uji R\n",
    "r_squared = model.score(X,y)\n",
    "print(\"Uji R: \",r_squared)"
   ]
  },
  {
   "cell_type": "code",
   "execution_count": 16,
   "metadata": {},
   "outputs": [],
   "source": [
    "k = 4\n",
    "n = len(df)- k"
   ]
  },
  {
   "cell_type": "code",
   "execution_count": 17,
   "metadata": {},
   "outputs": [
    {
     "name": "stdout",
     "output_type": "stream",
     "text": [
      "Nilai t tabel dari 26 adalah 2.056\n"
     ]
    }
   ],
   "source": [
    "# Membuat DataFrame untuk tabel uji t\n",
    "df_t = pd.DataFrame(columns=['dk', 'α=0.05'])\n",
    "df_t['dk'] = [i for i in range(1, 31)]\n",
    "\n",
    "# Menghitung nilai kritis t untuk setiap derajat kebebasan\n",
    "df_t['α=0.05'] = [round(t.ppf(0.975, df), 3) for df in df_t['dk']]\n",
    "\n",
    "# Menampilkan tabel uji t\n",
    "# print(df_t)\n",
    "\n",
    "# Menampilkan nilai kritis t saat dk = 26\n",
    "nilai_t = df_t[df_t['dk'] == n]['α=0.05'].values[0]\n",
    "print(\"Nilai t tabel dari\", n ,\"adalah\", nilai_t)\n"
   ]
  },
  {
   "cell_type": "code",
   "execution_count": 18,
   "metadata": {},
   "outputs": [
    {
     "name": "stdout",
     "output_type": "stream",
     "text": [
      "Nilai total_x1 tidak berpengaruh pada terhadap Y.\n",
      "Nilai total_x2 berpengaruh pada terhadap Y.\n",
      "Nilai total_x3 berpengaruh pada terhadap Y.\n",
      "Nilai total_x4 berpengaruh pada terhadap Y.\n"
     ]
    }
   ],
   "source": [
    "if total_x1 > nilai_t:\n",
    "    print(\"Nilai total_x1 berpengaruh pada terhadap Y.\")\n",
    "else:\n",
    "    print(\"Nilai total_x1 tidak berpengaruh pada terhadap Y.\")\n",
    "    \n",
    "if total_x2 > nilai_t:\n",
    "    print(\"Nilai total_x2 berpengaruh pada terhadap Y.\")\n",
    "else:\n",
    "    print(\"Nilai total_x2 tidak berpengaruh pada terhadap Y.\")\n",
    "    \n",
    "if total_x3 > nilai_t:\n",
    "    print(\"Nilai total_x3 berpengaruh pada terhadap Y.\")\n",
    "else:\n",
    "    print(\"Nilai total_x3 tidak berpengaruh pada terhadap Y.\")\n",
    "    \n",
    "if total_x4 > nilai_t:\n",
    "    print(\"Nilai total_x4 berpengaruh pada terhadap Y.\")\n",
    "else:\n",
    "    print(\"Nilai total_x4 tidak berpengaruh pada terhadap Y.\")"
   ]
  }
 ],
 "metadata": {
  "kernelspec": {
   "display_name": "Python 3",
   "language": "python",
   "name": "python3"
  },
  "language_info": {
   "codemirror_mode": {
    "name": "ipython",
    "version": 3
   },
   "file_extension": ".py",
   "mimetype": "text/x-python",
   "name": "python",
   "nbconvert_exporter": "python",
   "pygments_lexer": "ipython3",
   "version": "3.11.8"
  }
 },
 "nbformat": 4,
 "nbformat_minor": 2
}
